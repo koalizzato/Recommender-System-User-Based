{
 "cells": [
  {
   "cell_type": "markdown",
   "id": "8b46741d",
   "metadata": {},
   "source": [
    "# Metodi informatici per la gestione aziendale"
   ]
  },
  {
   "cell_type": "markdown",
   "id": "16ccf8b9",
   "metadata": {},
   "source": [
    "# Librerie"
   ]
  },
  {
   "cell_type": "code",
   "execution_count": 1,
   "id": "2e61ead4",
   "metadata": {},
   "outputs": [
    {
     "data": {
      "text/html": [
       "        <script type=\"text/javascript\">\n",
       "        window.PlotlyConfig = {MathJaxConfig: 'local'};\n",
       "        if (window.MathJax && window.MathJax.Hub && window.MathJax.Hub.Config) {window.MathJax.Hub.Config({SVG: {font: \"STIX-Web\"}});}\n",
       "        if (typeof require !== 'undefined') {\n",
       "        require.undef(\"plotly\");\n",
       "        requirejs.config({\n",
       "            paths: {\n",
       "                'plotly': ['https://cdn.plot.ly/plotly-2.12.1.min']\n",
       "            }\n",
       "        });\n",
       "        require(['plotly'], function(Plotly) {\n",
       "            window._Plotly = Plotly;\n",
       "        });\n",
       "        }\n",
       "        </script>\n",
       "        "
      ]
     },
     "metadata": {},
     "output_type": "display_data"
    }
   ],
   "source": [
    "import pandas as pd\n",
    "import json\n",
    "import matplotlib.pyplot as plt\n",
    "import numpy as np\n",
    "from scipy import stats\n",
    "from pandas import set_option \n",
    "\n",
    "import matplotlib.pyplot as plt\n",
    "import multiprocessing\n",
    "import numpy as np\n",
    "import pandas as pd\n",
    "import surprise\n",
    "\n",
    "from nltk.cluster import KMeansClusterer, cosine_distance\n",
    "\n",
    "from sklearn.ensemble import RandomForestClassifier\n",
    "\n",
    "from sklearn import random\n",
    "from sklearn.metrics import mean_squared_error\n",
    "from sklearn.model_selection import train_test_split as sk_train_test_split\n",
    "from sklearn.neighbors import NearestNeighbors, KNeighborsRegressor\n",
    "\n",
    "from surprise import accuracy, Dataset, KNNBasic\n",
    "from surprise.model_selection import cross_validate, train_test_split, GridSearchCV\n",
    "import json\n",
    "\n",
    "from surprise import Dataset, SVD\n",
    "from surprise.model_selection import cross_validate\n",
    "\n",
    "import numpy as np\n",
    "from sklearn.neighbors import NearestNeighbors\n",
    "\n",
    "import matplotlib.pyplot as plt\n",
    "import seaborn as sns\n",
    "plt.style.use('fivethirtyeight')\n",
    "# for interactive visualizations\n",
    "import plotly.offline as py\n",
    "from plotly.offline import init_notebook_mode, iplot\n",
    "import plotly.graph_objs as go\n",
    "from plotly import tools\n",
    "init_notebook_mode(connected = True)\n",
    "import plotly.figure_factory as ff\n",
    "\n",
    "import multiprocessing\n",
    "from multiprocessing import *\n",
    "\n",
    "from sklearn.metrics import mean_squared_error\n",
    "from sklearn.model_selection import train_test_split as sk_train_test_split\n",
    "from sklearn.neighbors import NearestNeighbors, KNeighborsRegressor\n",
    "\n",
    "from surprise import accuracy, Dataset, KNNBasic, Reader\n",
    "from surprise.model_selection import cross_validate, train_test_split, GridSearchCV"
   ]
  },
  {
   "cell_type": "markdown",
   "id": "d832810f",
   "metadata": {},
   "source": [
    "# 1) Analisi esplorative"
   ]
  },
  {
   "cell_type": "code",
   "execution_count": 2,
   "id": "3887fc54",
   "metadata": {},
   "outputs": [
    {
     "data": {
      "text/html": [
       "<div>\n",
       "<style scoped>\n",
       "    .dataframe tbody tr th:only-of-type {\n",
       "        vertical-align: middle;\n",
       "    }\n",
       "\n",
       "    .dataframe tbody tr th {\n",
       "        vertical-align: top;\n",
       "    }\n",
       "\n",
       "    .dataframe thead th {\n",
       "        text-align: right;\n",
       "    }\n",
       "</style>\n",
       "<table border=\"1\" class=\"dataframe\">\n",
       "  <thead>\n",
       "    <tr style=\"text-align: right;\">\n",
       "      <th></th>\n",
       "      <th>fit</th>\n",
       "      <th>user_id</th>\n",
       "      <th>bust size</th>\n",
       "      <th>item_id</th>\n",
       "      <th>weight</th>\n",
       "      <th>rating</th>\n",
       "      <th>rented for</th>\n",
       "      <th>review_text</th>\n",
       "      <th>body type</th>\n",
       "      <th>review_summary</th>\n",
       "      <th>category</th>\n",
       "      <th>height</th>\n",
       "      <th>size</th>\n",
       "      <th>age</th>\n",
       "      <th>review_date</th>\n",
       "    </tr>\n",
       "  </thead>\n",
       "  <tbody>\n",
       "    <tr>\n",
       "      <th>0</th>\n",
       "      <td>fit</td>\n",
       "      <td>420272</td>\n",
       "      <td>34d</td>\n",
       "      <td>2260466</td>\n",
       "      <td>137lbs</td>\n",
       "      <td>10.0</td>\n",
       "      <td>vacation</td>\n",
       "      <td>An adorable romper! Belt and zipper were a lit...</td>\n",
       "      <td>hourglass</td>\n",
       "      <td>So many compliments!</td>\n",
       "      <td>romper</td>\n",
       "      <td>5' 8\"</td>\n",
       "      <td>14</td>\n",
       "      <td>28.0</td>\n",
       "      <td>April 20, 2016</td>\n",
       "    </tr>\n",
       "    <tr>\n",
       "      <th>1</th>\n",
       "      <td>fit</td>\n",
       "      <td>273551</td>\n",
       "      <td>34b</td>\n",
       "      <td>153475</td>\n",
       "      <td>132lbs</td>\n",
       "      <td>10.0</td>\n",
       "      <td>other</td>\n",
       "      <td>I rented this dress for a photo shoot. The the...</td>\n",
       "      <td>straight &amp; narrow</td>\n",
       "      <td>I felt so glamourous!!!</td>\n",
       "      <td>gown</td>\n",
       "      <td>5' 6\"</td>\n",
       "      <td>12</td>\n",
       "      <td>36.0</td>\n",
       "      <td>June 18, 2013</td>\n",
       "    </tr>\n",
       "    <tr>\n",
       "      <th>3</th>\n",
       "      <td>fit</td>\n",
       "      <td>909926</td>\n",
       "      <td>34c</td>\n",
       "      <td>126335</td>\n",
       "      <td>135lbs</td>\n",
       "      <td>8.0</td>\n",
       "      <td>formal affair</td>\n",
       "      <td>I rented this for my company's black tie award...</td>\n",
       "      <td>pear</td>\n",
       "      <td>Dress arrived on time and in perfect condition.</td>\n",
       "      <td>dress</td>\n",
       "      <td>5' 5\"</td>\n",
       "      <td>8</td>\n",
       "      <td>34.0</td>\n",
       "      <td>February 12, 2014</td>\n",
       "    </tr>\n",
       "  </tbody>\n",
       "</table>\n",
       "</div>"
      ],
      "text/plain": [
       "   fit  user_id bust size  item_id  weight  rating     rented for  \\\n",
       "0  fit   420272       34d  2260466  137lbs    10.0       vacation   \n",
       "1  fit   273551       34b   153475  132lbs    10.0          other   \n",
       "3  fit   909926       34c   126335  135lbs     8.0  formal affair   \n",
       "\n",
       "                                         review_text          body type  \\\n",
       "0  An adorable romper! Belt and zipper were a lit...          hourglass   \n",
       "1  I rented this dress for a photo shoot. The the...  straight & narrow   \n",
       "3  I rented this for my company's black tie award...               pear   \n",
       "\n",
       "                                     review_summary category height  size  \\\n",
       "0                              So many compliments!   romper  5' 8\"    14   \n",
       "1                           I felt so glamourous!!!     gown  5' 6\"    12   \n",
       "3  Dress arrived on time and in perfect condition.     dress  5' 5\"     8   \n",
       "\n",
       "    age        review_date  \n",
       "0  28.0     April 20, 2016  \n",
       "1  36.0      June 18, 2013  \n",
       "3  34.0  February 12, 2014  "
      ]
     },
     "execution_count": 2,
     "metadata": {},
     "output_type": "execute_result"
    }
   ],
   "source": [
    "# Importiamo i dati:\n",
    "df = pd.read_json('renttherunway.json', lines = True)\n",
    "df = df.dropna()\n",
    "df.head(3)"
   ]
  },
  {
   "cell_type": "code",
   "execution_count": 3,
   "id": "2dfc6b06",
   "metadata": {},
   "outputs": [],
   "source": [
    "# Aggiustiamo i rating perchè sono raddopiati\n",
    "df.rating = df.rating /2\n",
    "\n",
    "# Modifichiamo la colonna altezza utilizzando i cm:\n",
    "h_centimetri = []\n",
    "for i in df['height']:\n",
    "    val = 0\n",
    "    h = str(i)\n",
    "    piede = int((h[0]))\n",
    "    pollice = int((h[3]))\n",
    "    if piede == 4:\n",
    "        val += 121.92\n",
    "        ngul = pollice*2.54\n",
    "        val += ngul\n",
    "    elif piede == 5:\n",
    "        val += 152.4\n",
    "        ngul = pollice*2.54\n",
    "        val += ngul\n",
    "    else:\n",
    "        val += 182.88\n",
    "        ngul = pollice*2.54\n",
    "        val += ngul\n",
    "    h_centimetri.append(val)\n",
    "df['height'] = h_centimetri\n",
    "\n",
    "# Sistemiamo anche la variabile delle libre mettendola come numerica e in Kg:\n",
    "peso = []\n",
    "for w in df['weight']:\n",
    "    ww = str(w)\n",
    "    ww = ww[0:-3]\n",
    "    ww = int(ww)\n",
    "    ww = ww*0.45359237   #Conversione in Kg\n",
    "    peso.append(ww)\n",
    "df.weight = peso"
   ]
  },
  {
   "cell_type": "code",
   "execution_count": 4,
   "id": "8ee930c3",
   "metadata": {},
   "outputs": [
    {
     "data": {
      "text/html": [
       "<div>\n",
       "<style scoped>\n",
       "    .dataframe tbody tr th:only-of-type {\n",
       "        vertical-align: middle;\n",
       "    }\n",
       "\n",
       "    .dataframe tbody tr th {\n",
       "        vertical-align: top;\n",
       "    }\n",
       "\n",
       "    .dataframe thead th {\n",
       "        text-align: right;\n",
       "    }\n",
       "</style>\n",
       "<table border=\"1\" class=\"dataframe\">\n",
       "  <thead>\n",
       "    <tr style=\"text-align: right;\">\n",
       "      <th></th>\n",
       "      <th>fit</th>\n",
       "      <th>user_id</th>\n",
       "      <th>bust size</th>\n",
       "      <th>item_id</th>\n",
       "      <th>weight</th>\n",
       "      <th>rating</th>\n",
       "      <th>rented for</th>\n",
       "      <th>review_text</th>\n",
       "      <th>body type</th>\n",
       "      <th>review_summary</th>\n",
       "      <th>category</th>\n",
       "      <th>height</th>\n",
       "      <th>size</th>\n",
       "      <th>age</th>\n",
       "      <th>review_date</th>\n",
       "    </tr>\n",
       "  </thead>\n",
       "  <tbody>\n",
       "    <tr>\n",
       "      <th>0</th>\n",
       "      <td>fit</td>\n",
       "      <td>420272</td>\n",
       "      <td>34d</td>\n",
       "      <td>2260466</td>\n",
       "      <td>62.142155</td>\n",
       "      <td>5.0</td>\n",
       "      <td>vacation</td>\n",
       "      <td>An adorable romper! Belt and zipper were a lit...</td>\n",
       "      <td>hourglass</td>\n",
       "      <td>So many compliments!</td>\n",
       "      <td>romper</td>\n",
       "      <td>172.72</td>\n",
       "      <td>14</td>\n",
       "      <td>28.0</td>\n",
       "      <td>April 20, 2016</td>\n",
       "    </tr>\n",
       "    <tr>\n",
       "      <th>1</th>\n",
       "      <td>fit</td>\n",
       "      <td>273551</td>\n",
       "      <td>34b</td>\n",
       "      <td>153475</td>\n",
       "      <td>59.874193</td>\n",
       "      <td>5.0</td>\n",
       "      <td>other</td>\n",
       "      <td>I rented this dress for a photo shoot. The the...</td>\n",
       "      <td>straight &amp; narrow</td>\n",
       "      <td>I felt so glamourous!!!</td>\n",
       "      <td>gown</td>\n",
       "      <td>167.64</td>\n",
       "      <td>12</td>\n",
       "      <td>36.0</td>\n",
       "      <td>June 18, 2013</td>\n",
       "    </tr>\n",
       "    <tr>\n",
       "      <th>3</th>\n",
       "      <td>fit</td>\n",
       "      <td>909926</td>\n",
       "      <td>34c</td>\n",
       "      <td>126335</td>\n",
       "      <td>61.234970</td>\n",
       "      <td>4.0</td>\n",
       "      <td>formal affair</td>\n",
       "      <td>I rented this for my company's black tie award...</td>\n",
       "      <td>pear</td>\n",
       "      <td>Dress arrived on time and in perfect condition.</td>\n",
       "      <td>dress</td>\n",
       "      <td>165.10</td>\n",
       "      <td>8</td>\n",
       "      <td>34.0</td>\n",
       "      <td>February 12, 2014</td>\n",
       "    </tr>\n",
       "  </tbody>\n",
       "</table>\n",
       "</div>"
      ],
      "text/plain": [
       "   fit  user_id bust size  item_id     weight  rating     rented for  \\\n",
       "0  fit   420272       34d  2260466  62.142155     5.0       vacation   \n",
       "1  fit   273551       34b   153475  59.874193     5.0          other   \n",
       "3  fit   909926       34c   126335  61.234970     4.0  formal affair   \n",
       "\n",
       "                                         review_text          body type  \\\n",
       "0  An adorable romper! Belt and zipper were a lit...          hourglass   \n",
       "1  I rented this dress for a photo shoot. The the...  straight & narrow   \n",
       "3  I rented this for my company's black tie award...               pear   \n",
       "\n",
       "                                     review_summary category  height  size  \\\n",
       "0                              So many compliments!   romper  172.72    14   \n",
       "1                           I felt so glamourous!!!     gown  167.64    12   \n",
       "3  Dress arrived on time and in perfect condition.     dress  165.10     8   \n",
       "\n",
       "    age        review_date  \n",
       "0  28.0     April 20, 2016  \n",
       "1  36.0      June 18, 2013  \n",
       "3  34.0  February 12, 2014  "
      ]
     },
     "execution_count": 4,
     "metadata": {},
     "output_type": "execute_result"
    }
   ],
   "source": [
    "df.head(3)"
   ]
  },
  {
   "cell_type": "code",
   "execution_count": 5,
   "id": "aee09d23",
   "metadata": {},
   "outputs": [
    {
     "data": {
      "text/plain": [
       "rating\n",
       "1.0      783\n",
       "2.0     2205\n",
       "3.0     8341\n",
       "4.0    40761\n",
       "5.0    94291\n",
       "Name: user_id, dtype: int64"
      ]
     },
     "execution_count": 5,
     "metadata": {},
     "output_type": "execute_result"
    },
    {
     "data": {
      "image/png": "[encoded data removed]",
      "text/plain": [
       "<Figure size 640x480 with 1 Axes>"
      ]
     },
     "metadata": {},
     "output_type": "display_data"
    }
   ],
   "source": [
    "# Vediamo l'istogramma dei rating:\n",
    "df.rating.hist()\n",
    "df.groupby('rating').user_id.count()"
   ]
  },
  {
   "cell_type": "code",
   "execution_count": 6,
   "id": "43fd8b34",
   "metadata": {},
   "outputs": [
    {
     "name": "stdout",
     "output_type": "stream",
     "text": [
      "Statistiche descrittive per dati quantitativi:\n"
     ]
    },
    {
     "data": {
      "text/html": [
       "<div>\n",
       "<style scoped>\n",
       "    .dataframe tbody tr th:only-of-type {\n",
       "        vertical-align: middle;\n",
       "    }\n",
       "\n",
       "    .dataframe tbody tr th {\n",
       "        vertical-align: top;\n",
       "    }\n",
       "\n",
       "    .dataframe thead th {\n",
       "        text-align: right;\n",
       "    }\n",
       "</style>\n",
       "<table border=\"1\" class=\"dataframe\">\n",
       "  <thead>\n",
       "    <tr style=\"text-align: right;\">\n",
       "      <th></th>\n",
       "      <th>user_id</th>\n",
       "      <th>item_id</th>\n",
       "      <th>weight</th>\n",
       "      <th>rating</th>\n",
       "      <th>height</th>\n",
       "      <th>size</th>\n",
       "      <th>age</th>\n",
       "    </tr>\n",
       "  </thead>\n",
       "  <tbody>\n",
       "    <tr>\n",
       "      <th>count</th>\n",
       "      <td>146381.000000</td>\n",
       "      <td>1.463810e+05</td>\n",
       "      <td>146381.000000</td>\n",
       "      <td>146381.000000</td>\n",
       "      <td>146381.000000</td>\n",
       "      <td>146381.000000</td>\n",
       "      <td>146381.000000</td>\n",
       "    </tr>\n",
       "    <tr>\n",
       "      <th>mean</th>\n",
       "      <td>498991.574528</td>\n",
       "      <td>1.052277e+06</td>\n",
       "      <td>62.237350</td>\n",
       "      <td>4.540992</td>\n",
       "      <td>164.389367</td>\n",
       "      <td>11.437919</td>\n",
       "      <td>34.089800</td>\n",
       "    </tr>\n",
       "    <tr>\n",
       "      <th>std</th>\n",
       "      <td>289658.524623</td>\n",
       "      <td>8.091076e+05</td>\n",
       "      <td>9.770462</td>\n",
       "      <td>0.718926</td>\n",
       "      <td>7.104190</td>\n",
       "      <td>7.826784</td>\n",
       "      <td>8.113217</td>\n",
       "    </tr>\n",
       "    <tr>\n",
       "      <th>min</th>\n",
       "      <td>9.000000</td>\n",
       "      <td>1.233730e+05</td>\n",
       "      <td>22.679619</td>\n",
       "      <td>1.000000</td>\n",
       "      <td>124.460000</td>\n",
       "      <td>0.000000</td>\n",
       "      <td>0.000000</td>\n",
       "    </tr>\n",
       "    <tr>\n",
       "      <th>25%</th>\n",
       "      <td>249294.000000</td>\n",
       "      <td>1.956130e+05</td>\n",
       "      <td>55.791862</td>\n",
       "      <td>4.000000</td>\n",
       "      <td>160.020000</td>\n",
       "      <td>4.000000</td>\n",
       "      <td>29.000000</td>\n",
       "    </tr>\n",
       "    <tr>\n",
       "      <th>50%</th>\n",
       "      <td>499034.000000</td>\n",
       "      <td>9.618190e+05</td>\n",
       "      <td>61.234970</td>\n",
       "      <td>5.000000</td>\n",
       "      <td>165.100000</td>\n",
       "      <td>9.000000</td>\n",
       "      <td>32.000000</td>\n",
       "    </tr>\n",
       "    <tr>\n",
       "      <th>75%</th>\n",
       "      <td>750840.000000</td>\n",
       "      <td>1.687082e+06</td>\n",
       "      <td>67.131671</td>\n",
       "      <td>5.000000</td>\n",
       "      <td>170.180000</td>\n",
       "      <td>16.000000</td>\n",
       "      <td>37.000000</td>\n",
       "    </tr>\n",
       "    <tr>\n",
       "      <th>max</th>\n",
       "      <td>999997.000000</td>\n",
       "      <td>2.966087e+06</td>\n",
       "      <td>136.077711</td>\n",
       "      <td>5.000000</td>\n",
       "      <td>198.120000</td>\n",
       "      <td>58.000000</td>\n",
       "      <td>117.000000</td>\n",
       "    </tr>\n",
       "  </tbody>\n",
       "</table>\n",
       "</div>"
      ],
      "text/plain": [
       "             user_id       item_id         weight         rating  \\\n",
       "count  146381.000000  1.463810e+05  146381.000000  146381.000000   \n",
       "mean   498991.574528  1.052277e+06      62.237350       4.540992   \n",
       "std    289658.524623  8.091076e+05       9.770462       0.718926   \n",
       "min         9.000000  1.233730e+05      22.679619       1.000000   \n",
       "25%    249294.000000  1.956130e+05      55.791862       4.000000   \n",
       "50%    499034.000000  9.618190e+05      61.234970       5.000000   \n",
       "75%    750840.000000  1.687082e+06      67.131671       5.000000   \n",
       "max    999997.000000  2.966087e+06     136.077711       5.000000   \n",
       "\n",
       "              height           size            age  \n",
       "count  146381.000000  146381.000000  146381.000000  \n",
       "mean      164.389367      11.437919      34.089800  \n",
       "std         7.104190       7.826784       8.113217  \n",
       "min       124.460000       0.000000       0.000000  \n",
       "25%       160.020000       4.000000      29.000000  \n",
       "50%       165.100000       9.000000      32.000000  \n",
       "75%       170.180000      16.000000      37.000000  \n",
       "max       198.120000      58.000000     117.000000  "
      ]
     },
     "execution_count": 6,
     "metadata": {},
     "output_type": "execute_result"
    }
   ],
   "source": [
    "# Analisi variabili quantitative\n",
    "description = df.describe()\n",
    "print('Statistiche descrittive per dati quantitativi:')\n",
    "description"
   ]
  },
  {
   "cell_type": "code",
   "execution_count": 7,
   "id": "8f3eb922",
   "metadata": {},
   "outputs": [
    {
     "data": {
      "text/plain": [
       "body type          rating\n",
       "apple              1.0          34\n",
       "                   2.0          62\n",
       "                   3.0         293\n",
       "                   4.0        1188\n",
       "                   5.0        2232\n",
       "athletic           1.0         173\n",
       "                   2.0         528\n",
       "                   3.0        1951\n",
       "                   4.0       10245\n",
       "                   5.0       24621\n",
       "full bust          1.0          81\n",
       "                   2.0         176\n",
       "                   3.0         608\n",
       "                   4.0        3228\n",
       "                   5.0        6704\n",
       "hourglass          1.0         242\n",
       "                   2.0         672\n",
       "                   3.0        2572\n",
       "                   4.0       12236\n",
       "                   5.0       28260\n",
       "pear               1.0          74\n",
       "                   2.0         274\n",
       "                   3.0        1107\n",
       "                   4.0        5328\n",
       "                   5.0       11268\n",
       "petite             1.0         118\n",
       "                   2.0         310\n",
       "                   3.0        1123\n",
       "                   4.0        5274\n",
       "                   5.0       12533\n",
       "straight & narrow  1.0          61\n",
       "                   2.0         183\n",
       "                   3.0         687\n",
       "                   4.0        3262\n",
       "                   5.0        8673\n",
       "Name: rating, dtype: int64"
      ]
     },
     "execution_count": 7,
     "metadata": {},
     "output_type": "execute_result"
    }
   ],
   "source": [
    "# Analisi variabili qulitative:\n",
    "body_su_rating = df.groupby(['body type', 'rating']).rating.count()\n",
    "body_su_rating"
   ]
  },
  {
   "cell_type": "code",
   "execution_count": 8,
   "id": "5aef7cb1",
   "metadata": {},
   "outputs": [
    {
     "data": {
      "text/plain": [
       "category\n",
       "dress         70474\n",
       "gown          33278\n",
       "sheath        14691\n",
       "shift          4039\n",
       "jumpsuit       4019\n",
       "top            3780\n",
       "maxi           2600\n",
       "romper         2447\n",
       "jacket         1871\n",
       "mini           1417\n",
       "skirt          1206\n",
       "sweater         919\n",
       "coat            770\n",
       "blazer          620\n",
       "shirtdress      564\n",
       "Name: rating, dtype: int64"
      ]
     },
     "execution_count": 8,
     "metadata": {},
     "output_type": "execute_result"
    }
   ],
   "source": [
    "category_su_rating = df.groupby('category').rating.count().sort_values(ascending = False)\n",
    "category_su_rating.head(15)"
   ]
  },
  {
   "cell_type": "code",
   "execution_count": 9,
   "id": "18f2859e",
   "metadata": {},
   "outputs": [
    {
     "data": {
      "text/plain": [
       "user_id\n",
       "691468    436\n",
       "32925     292\n",
       "45337     140\n",
       "833675    128\n",
       "742630    124\n",
       "269712    105\n",
       "215971     96\n",
       "257847     87\n",
       "252311     83\n",
       "630850     79\n",
       "Name: rating, dtype: int64"
      ]
     },
     "execution_count": 9,
     "metadata": {},
     "output_type": "execute_result"
    }
   ],
   "source": [
    "# Vediamo quali sono gli utenti che hanno dato più voti ai vestiti:\n",
    "utenti_chiaccheroni = df.groupby(by= 'user_id').rating.count().sort_values(ascending = False)\n",
    "utenti_piu_chiaccheroni = utenti_chiaccheroni.head(10)        # I 10 id_user che valutano di più\n",
    "utenti_piu_chiaccheroni"
   ]
  },
  {
   "cell_type": "code",
   "execution_count": 10,
   "id": "c4e6159b",
   "metadata": {},
   "outputs": [
    {
     "data": {
      "text/plain": [
       "[<matplotlib.lines.Line2D at 0x21711e65030>]"
      ]
     },
     "execution_count": 10,
     "metadata": {},
     "output_type": "execute_result"
    },
    {
     "data": {
      "image/png": "[encoded data removed]",
      "text/plain": [
       "<Figure size 640x480 with 1 Axes>"
      ]
     },
     "metadata": {},
     "output_type": "display_data"
    }
   ],
   "source": [
    "plt.plot(range(len(utenti_chiaccheroni.head(250))), utenti_chiaccheroni.head(250))"
   ]
  },
  {
   "cell_type": "code",
   "execution_count": 11,
   "id": "2979620b",
   "metadata": {},
   "outputs": [
    {
     "data": {
      "text/plain": [
       "rented for\n",
       "wedding            42622\n",
       "formal affair      30496\n",
       "party              27198\n",
       "everyday           13263\n",
       "work               12124\n",
       "other              11510\n",
       "date                5929\n",
       "vacation            3238\n",
       "party: cocktail        1\n",
       "Name: rating, dtype: int64"
      ]
     },
     "execution_count": 11,
     "metadata": {},
     "output_type": "execute_result"
    }
   ],
   "source": [
    "category_su_rating = df.groupby('rented for').rating.count().sort_values(ascending = False)\n",
    "category_su_rating"
   ]
  },
  {
   "cell_type": "code",
   "execution_count": null,
   "id": "f5e423e4",
   "metadata": {},
   "outputs": [],
   "source": []
  },
  {
   "cell_type": "markdown",
   "id": "7f5ab864",
   "metadata": {},
   "source": [
    "# Configurazione ottimale"
   ]
  },
  {
   "cell_type": "code",
   "execution_count": 6,
   "id": "cd0fd5ef",
   "metadata": {},
   "outputs": [],
   "source": [
    "df_ridotto = df[['user_id', 'item_id', 'rating']]\n",
    "df_ridotto = df_ridotto.dropna()\n",
    "df_ridotto = df_ridotto.drop_duplicates(['user_id','item_id'], keep='last')\n",
    "lista_item = df_ridotto.item_id\n",
    "df_ridotto['rating'] = df_ridotto['rating'].astype('int8')"
   ]
  },
  {
   "cell_type": "code",
   "execution_count": 7,
   "id": "fcd78262",
   "metadata": {},
   "outputs": [],
   "source": [
    "# Teniamo i più votati\n",
    "most_rated_items = df_ridotto.item_id.value_counts().head(400).index\n",
    "most_rating_users = df_ridotto.user_id.value_counts().head(15000).index\n",
    "\n",
    "df_ridotto = df_ridotto[df_ridotto.item_id.isin(most_rated_items)]\n",
    "df_ridotto = df_ridotto[df_ridotto.user_id.isin(most_rating_users)]"
   ]
  },
  {
   "cell_type": "code",
   "execution_count": 14,
   "id": "984ed6c0",
   "metadata": {},
   "outputs": [
    {
     "data": {
      "text/html": [
       "<div>\n",
       "<style scoped>\n",
       "    .dataframe tbody tr th:only-of-type {\n",
       "        vertical-align: middle;\n",
       "    }\n",
       "\n",
       "    .dataframe tbody tr th {\n",
       "        vertical-align: top;\n",
       "    }\n",
       "\n",
       "    .dataframe thead th {\n",
       "        text-align: right;\n",
       "    }\n",
       "</style>\n",
       "<table border=\"1\" class=\"dataframe\">\n",
       "  <thead>\n",
       "    <tr style=\"text-align: right;\">\n",
       "      <th></th>\n",
       "      <th>user_id</th>\n",
       "      <th>item_id</th>\n",
       "      <th>rating</th>\n",
       "    </tr>\n",
       "  </thead>\n",
       "  <tbody>\n",
       "    <tr>\n",
       "      <th>4</th>\n",
       "      <td>151944</td>\n",
       "      <td>616682</td>\n",
       "      <td>5</td>\n",
       "    </tr>\n",
       "    <tr>\n",
       "      <th>9</th>\n",
       "      <td>154309</td>\n",
       "      <td>1729232</td>\n",
       "      <td>5</td>\n",
       "    </tr>\n",
       "    <tr>\n",
       "      <th>12</th>\n",
       "      <td>87660</td>\n",
       "      <td>1295171</td>\n",
       "      <td>5</td>\n",
       "    </tr>\n",
       "    <tr>\n",
       "      <th>14</th>\n",
       "      <td>721308</td>\n",
       "      <td>123793</td>\n",
       "      <td>5</td>\n",
       "    </tr>\n",
       "    <tr>\n",
       "      <th>19</th>\n",
       "      <td>16800</td>\n",
       "      <td>1229740</td>\n",
       "      <td>5</td>\n",
       "    </tr>\n",
       "    <tr>\n",
       "      <th>...</th>\n",
       "      <td>...</td>\n",
       "      <td>...</td>\n",
       "      <td>...</td>\n",
       "    </tr>\n",
       "    <tr>\n",
       "      <th>192516</th>\n",
       "      <td>763229</td>\n",
       "      <td>1566348</td>\n",
       "      <td>4</td>\n",
       "    </tr>\n",
       "    <tr>\n",
       "      <th>192524</th>\n",
       "      <td>62024</td>\n",
       "      <td>152662</td>\n",
       "      <td>3</td>\n",
       "    </tr>\n",
       "    <tr>\n",
       "      <th>192526</th>\n",
       "      <td>255511</td>\n",
       "      <td>166633</td>\n",
       "      <td>5</td>\n",
       "    </tr>\n",
       "    <tr>\n",
       "      <th>192531</th>\n",
       "      <td>136279</td>\n",
       "      <td>330238</td>\n",
       "      <td>4</td>\n",
       "    </tr>\n",
       "    <tr>\n",
       "      <th>192541</th>\n",
       "      <td>47002</td>\n",
       "      <td>683251</td>\n",
       "      <td>3</td>\n",
       "    </tr>\n",
       "  </tbody>\n",
       "</table>\n",
       "<p>23710 rows × 3 columns</p>\n",
       "</div>"
      ],
      "text/plain": [
       "        user_id  item_id  rating\n",
       "4        151944   616682       5\n",
       "9        154309  1729232       5\n",
       "12        87660  1295171       5\n",
       "14       721308   123793       5\n",
       "19        16800  1229740       5\n",
       "...         ...      ...     ...\n",
       "192516   763229  1566348       4\n",
       "192524    62024   152662       3\n",
       "192526   255511   166633       5\n",
       "192531   136279   330238       4\n",
       "192541    47002   683251       3\n",
       "\n",
       "[23710 rows x 3 columns]"
      ]
     },
     "execution_count": 14,
     "metadata": {},
     "output_type": "execute_result"
    }
   ],
   "source": [
    "df_ridotto"
   ]
  },
  {
   "cell_type": "code",
   "execution_count": 8,
   "id": "20ebb54d",
   "metadata": {},
   "outputs": [
    {
     "name": "stdout",
     "output_type": "stream",
     "text": [
      "Computing the cosine similarity matrix...\n",
      "Done computing similarity matrix.\n",
      "Computing the cosine similarity matrix...\n",
      "Done computing similarity matrix.\n",
      "Computing the cosine similarity matrix...\n",
      "Done computing similarity matrix.\n",
      "Computing the cosine similarity matrix...\n",
      "Done computing similarity matrix.\n",
      "Computing the cosine similarity matrix...\n",
      "Done computing similarity matrix.\n",
      "Computing the cosine similarity matrix...\n",
      "Done computing similarity matrix.\n",
      "Computing the cosine similarity matrix...\n",
      "Done computing similarity matrix.\n",
      "Computing the cosine similarity matrix...\n",
      "Done computing similarity matrix.\n",
      "Computing the cosine similarity matrix...\n",
      "Done computing similarity matrix.\n",
      "Computing the cosine similarity matrix...\n",
      "Done computing similarity matrix.\n",
      "Computing the pearson similarity matrix...\n",
      "Done computing similarity matrix.\n",
      "Computing the pearson similarity matrix...\n",
      "Done computing similarity matrix.\n",
      "Computing the pearson similarity matrix...\n",
      "Done computing similarity matrix.\n",
      "Computing the pearson similarity matrix...\n",
      "Done computing similarity matrix.\n",
      "Computing the pearson similarity matrix...\n",
      "Done computing similarity matrix.\n",
      "Computing the pearson similarity matrix...\n",
      "Done computing similarity matrix.\n",
      "Computing the pearson similarity matrix...\n",
      "Done computing similarity matrix.\n",
      "Computing the pearson similarity matrix...\n",
      "Done computing similarity matrix.\n",
      "Computing the pearson similarity matrix...\n",
      "Done computing similarity matrix.\n",
      "Computing the pearson similarity matrix...\n",
      "Done computing similarity matrix.\n",
      "Computing the cosine similarity matrix...\n",
      "Done computing similarity matrix.\n",
      "Computing the cosine similarity matrix...\n",
      "Done computing similarity matrix.\n",
      "Computing the cosine similarity matrix...\n",
      "Done computing similarity matrix.\n",
      "Computing the cosine similarity matrix...\n",
      "Done computing similarity matrix.\n",
      "Computing the cosine similarity matrix...\n",
      "Done computing similarity matrix.\n",
      "Computing the cosine similarity matrix...\n",
      "Done computing similarity matrix.\n",
      "Computing the cosine similarity matrix...\n",
      "Done computing similarity matrix.\n",
      "Computing the cosine similarity matrix...\n",
      "Done computing similarity matrix.\n",
      "Computing the cosine similarity matrix...\n",
      "Done computing similarity matrix.\n",
      "Computing the cosine similarity matrix...\n",
      "Done computing similarity matrix.\n",
      "Computing the pearson similarity matrix...\n",
      "Done computing similarity matrix.\n",
      "Computing the pearson similarity matrix...\n",
      "Done computing similarity matrix.\n",
      "Computing the pearson similarity matrix...\n",
      "Done computing similarity matrix.\n",
      "Computing the pearson similarity matrix...\n",
      "Done computing similarity matrix.\n",
      "Computing the pearson similarity matrix...\n",
      "Done computing similarity matrix.\n",
      "Computing the pearson similarity matrix...\n",
      "Done computing similarity matrix.\n",
      "Computing the pearson similarity matrix...\n",
      "Done computing similarity matrix.\n",
      "Computing the pearson similarity matrix...\n",
      "Done computing similarity matrix.\n",
      "Computing the pearson similarity matrix...\n",
      "Done computing similarity matrix.\n",
      "Computing the pearson similarity matrix...\n",
      "Done computing similarity matrix.\n",
      "Computing the cosine similarity matrix...\n",
      "Done computing similarity matrix.\n",
      "Computing the cosine similarity matrix...\n",
      "Done computing similarity matrix.\n",
      "Computing the cosine similarity matrix...\n",
      "Done computing similarity matrix.\n",
      "Computing the cosine similarity matrix...\n",
      "Done computing similarity matrix.\n",
      "Computing the cosine similarity matrix...\n",
      "Done computing similarity matrix.\n",
      "Computing the cosine similarity matrix...\n",
      "Done computing similarity matrix.\n",
      "Computing the cosine similarity matrix...\n",
      "Done computing similarity matrix.\n",
      "Computing the cosine similarity matrix...\n",
      "Done computing similarity matrix.\n",
      "Computing the cosine similarity matrix...\n",
      "Done computing similarity matrix.\n",
      "Computing the cosine similarity matrix...\n",
      "Done computing similarity matrix.\n",
      "Computing the pearson similarity matrix...\n",
      "Done computing similarity matrix.\n",
      "Computing the pearson similarity matrix...\n",
      "Done computing similarity matrix.\n",
      "Computing the pearson similarity matrix...\n",
      "Done computing similarity matrix.\n",
      "Computing the pearson similarity matrix...\n",
      "Done computing similarity matrix.\n",
      "Computing the pearson similarity matrix...\n",
      "Done computing similarity matrix.\n",
      "Computing the pearson similarity matrix...\n",
      "Done computing similarity matrix.\n",
      "Computing the pearson similarity matrix...\n",
      "Done computing similarity matrix.\n",
      "Computing the pearson similarity matrix...\n",
      "Done computing similarity matrix.\n",
      "Computing the pearson similarity matrix...\n",
      "Done computing similarity matrix.\n",
      "Computing the pearson similarity matrix...\n",
      "Done computing similarity matrix.\n",
      "Best RMSE = 0.7218\n",
      "Best MSE = 0.5210\n",
      "Best configuration = {'k': 1, 'sim_options': {'name': 'pearson', 'user_based': True}}\n"
     ]
    }
   ],
   "source": [
    "# Creiamo un oggetto per convertire il DF in un formato utilizzabile da Surprise:\n",
    "reader = Reader(rating_scale=(1, 5))\n",
    "\n",
    "# Utilizziamo il Grid Search:\n",
    "ds_gridset = Dataset.load_from_df(df_ridotto.sample(frac=0.9)[['user_id', 'item_id', 'rating']], reader)\n",
    "param_grid = {\n",
    "    'k': [1, 2, 5,],\n",
    "    'sim_options': {\n",
    "        'name': ['cosine', 'pearson'],\n",
    "        'user_based': [True, False]\n",
    "        }\n",
    "    }\n",
    "\n",
    "gs = GridSearchCV(KNNBasic, param_grid, measures=['rmse', 'mse'])\n",
    "gs.fit(ds_gridset)\n",
    "\n",
    "\n",
    "# Vediamo i risultati:\n",
    "print(f'Best RMSE = {gs.best_score[\"rmse\"]:.4f}')\n",
    "print(f'Best MSE = {gs.best_score[\"mse\"]:.4f}')\n",
    "print(f'Best configuration = {gs.best_params[\"rmse\"]}')"
   ]
  },
  {
   "cell_type": "code",
   "execution_count": 10,
   "id": "011535f5",
   "metadata": {},
   "outputs": [
    {
     "name": "stdout",
     "output_type": "stream",
     "text": [
      "Computing the pearson similarity matrix...\n",
      "Done computing similarity matrix.\n",
      "Computing the pearson similarity matrix...\n",
      "Done computing similarity matrix.\n",
      "Computing the pearson similarity matrix...\n",
      "Done computing similarity matrix.\n",
      "Computing the pearson similarity matrix...\n",
      "Done computing similarity matrix.\n",
      "Computing the pearson similarity matrix...\n",
      "Done computing similarity matrix.\n",
      "Evaluating RMSE, MSE of algorithm KNNBasic on 5 split(s).\n",
      "\n",
      "                  Fold 1  Fold 2  Fold 3  Fold 4  Fold 5  Mean    Std     \n",
      "RMSE (testset)    0.7791  0.7309  0.7185  0.7031  0.7280  0.7319  0.0255  \n",
      "MSE (testset)     0.6070  0.5342  0.5163  0.4943  0.5300  0.5364  0.0380  \n",
      "Fit time          0.61    0.64    0.77    0.75    0.75    0.71    0.07    \n",
      "Test time         0.02    0.03    0.04    0.02    0.03    0.03    0.01    \n"
     ]
    }
   ],
   "source": [
    "# Cross validiamo:\n",
    "ds_cv = Dataset.load_from_df(df_ridotto.sample(frac=0.2)[['user_id', 'item_id', 'rating']], reader)\n",
    "\n",
    "algo = KNNBasic(\n",
    "    k=gs.best_params['rmse']['k'], \n",
    "    sim_options= {'name': 'pearson', 'user_based': True}   # Nel caso la best configuration si cambia da qua\n",
    "    )\n",
    "\n",
    "result = cross_validate(algo, ds_cv, measures=['RMSE', 'MSE'], cv=5, verbose=True)"
   ]
  },
  {
   "cell_type": "code",
   "execution_count": 12,
   "id": "89bf26bb",
   "metadata": {},
   "outputs": [
    {
     "name": "stdout",
     "output_type": "stream",
     "text": [
      "Computing the pearson similarity matrix...\n",
      "Done computing similarity matrix.\n"
     ]
    },
    {
     "data": {
      "text/plain": [
       "<surprise.prediction_algorithms.knns.KNNBasic at 0x2ce01c71c00>"
      ]
     },
     "execution_count": 12,
     "metadata": {},
     "output_type": "execute_result"
    }
   ],
   "source": [
    "# Fittiamo il K-NN\n",
    "ds = Dataset.load_from_df(df_ridotto, reader)\n",
    "trainset = ds.build_full_trainset()\n",
    "\n",
    "algo.fit(trainset)"
   ]
  },
  {
   "cell_type": "code",
   "execution_count": 13,
   "id": "4857e9f3",
   "metadata": {},
   "outputs": [
    {
     "name": "stdout",
     "output_type": "stream",
     "text": [
      "user: 830266     item: 148089     r_ui = 2.00   est = 4.53   {'was_impossible': True, 'reason': 'Not enough neighbors.'}\n",
      "user: 515045     item: 1549763    r_ui = 2.00   est = 4.53   {'was_impossible': True, 'reason': 'Not enough neighbors.'}\n",
      "user: 408838     item: 136860     r_ui = 2.00   est = 4.53   {'was_impossible': True, 'reason': 'Not enough neighbors.'}\n",
      "user: 582072     item: 1746190    r_ui = 2.00   est = 4.53   {'was_impossible': True, 'reason': 'Not enough neighbors.'}\n",
      "user: 983612     item: 166633     r_ui = 2.00   est = 4.53   {'was_impossible': True, 'reason': 'Not enough neighbors.'}\n",
      "user: 549174     item: 1859039    r_ui = 2.00   est = 4.53   {'was_impossible': True, 'reason': 'Not enough neighbors.'}\n",
      "user: 483693     item: 849468     r_ui = 2.00   est = 4.53   {'was_impossible': True, 'reason': 'Not enough neighbors.'}\n",
      "user: 591566     item: 1424454    r_ui = 2.00   est = 4.53   {'was_impossible': True, 'reason': 'Not enough neighbors.'}\n",
      "user: 147020     item: 1238932    r_ui = 2.00   est = 4.53   {'was_impossible': True, 'reason': 'Not enough neighbors.'}\n"
     ]
    }
   ],
   "source": [
    "for i in range(1,10):\n",
    "  (algo.predict(df_ridotto.sample().iloc[0,0],df_ridotto.sample().iloc[0,1],  r_ui = 2 ,verbose= True).est)"
   ]
  },
  {
   "cell_type": "code",
   "execution_count": null,
   "id": "1a15c3c7",
   "metadata": {},
   "outputs": [],
   "source": []
  },
  {
   "cell_type": "markdown",
   "id": "1716ddac",
   "metadata": {},
   "source": [
    "# Filling Matrice"
   ]
  },
  {
   "cell_type": "code",
   "execution_count": 15,
   "id": "74087380",
   "metadata": {},
   "outputs": [],
   "source": [
    "# Iniziamo prima col ridurre le dimensioni della nostra matrice e poi col rimepirla:\n",
    "users_ids = df_ridotto['user_id'].unique()\n",
    "items_ids = df_ridotto['item_id'].unique()"
   ]
  },
  {
   "cell_type": "code",
   "execution_count": 16,
   "id": "791b88f4",
   "metadata": {},
   "outputs": [],
   "source": [
    "users_subset = users_ids[:1000]"
   ]
  },
  {
   "cell_type": "code",
   "execution_count": 17,
   "id": "7b56dac4",
   "metadata": {},
   "outputs": [],
   "source": [
    "rating_matrix = np.zeros((len(users_subset), len(items_ids))) # Creiamo la matrice solo di zeri\n",
    "rating_matrix_zeri = np.zeros((len(users_subset), len(items_ids)))\n",
    "\n",
    "df_ridotto.set_index(['user_id', 'item_id'], inplace=True) # Per splittare gli indici"
   ]
  },
  {
   "cell_type": "code",
   "execution_count": 18,
   "id": "198aa5af",
   "metadata": {},
   "outputs": [],
   "source": [
    "# Sarà la matrice vuota con solo i rating del dataset\n",
    "for i, user in enumerate(users_subset):\n",
    "    for j, item in enumerate(items_ids):\n",
    "\n",
    "        if (user, item) in df_ridotto.index:\n",
    "            rating_matrix_zeri[i, j] = df_ridotto.loc[user, item]['rating']"
   ]
  },
  {
   "cell_type": "code",
   "execution_count": 19,
   "id": "476cb082",
   "metadata": {},
   "outputs": [
    {
     "data": {
      "text/plain": [
       "array([[5., 0., 0., 0., 0., 0., 0., 0., 0., 0.],\n",
       "       [0., 5., 0., 0., 0., 0., 0., 0., 0., 0.],\n",
       "       [0., 0., 5., 0., 0., 0., 0., 0., 0., 0.],\n",
       "       [0., 0., 0., 5., 0., 0., 0., 0., 0., 0.],\n",
       "       [0., 0., 0., 0., 5., 0., 0., 0., 0., 0.],\n",
       "       [0., 0., 0., 0., 0., 5., 0., 0., 0., 0.],\n",
       "       [0., 0., 0., 0., 0., 0., 5., 0., 0., 0.],\n",
       "       [0., 0., 0., 0., 0., 0., 0., 4., 0., 0.],\n",
       "       [0., 0., 0., 0., 0., 0., 0., 0., 5., 0.],\n",
       "       [0., 0., 0., 0., 0., 0., 0., 0., 0., 3.]])"
      ]
     },
     "execution_count": 19,
     "metadata": {},
     "output_type": "execute_result"
    }
   ],
   "source": [
    "rating_matrix_zeri[:10, :10]"
   ]
  },
  {
   "cell_type": "code",
   "execution_count": 20,
   "id": "b4dd7019",
   "metadata": {},
   "outputs": [],
   "source": [
    "# Matrice completata dal k-NN\n",
    "for i, user in enumerate(users_subset):\n",
    "    for j, item in enumerate(items_ids):\n",
    "\n",
    "        if (user, item) in df_ridotto.index:\n",
    "            rating_matrix[i, j] = df_ridotto.loc[user, item]['rating']\n",
    "\n",
    "        else:\n",
    "            rating_matrix[i, j] = round(algo.predict(user, item).est)\n",
    "\n",
    "df_ridotto.reset_index(inplace=True)"
   ]
  },
  {
   "cell_type": "code",
   "execution_count": 21,
   "id": "53429d5b",
   "metadata": {},
   "outputs": [
    {
     "data": {
      "text/plain": [
       "array([[5., 5., 5., 5., 5., 5., 5., 5., 5., 5.],\n",
       "       [5., 5., 5., 5., 5., 5., 5., 5., 5., 5.],\n",
       "       [5., 5., 5., 5., 5., 5., 5., 5., 5., 5.],\n",
       "       [5., 5., 5., 5., 5., 5., 5., 5., 5., 5.],\n",
       "       [5., 5., 5., 5., 5., 5., 5., 5., 5., 5.],\n",
       "       [5., 5., 5., 5., 5., 5., 5., 5., 5., 5.],\n",
       "       [5., 5., 5., 5., 5., 5., 5., 5., 5., 5.],\n",
       "       [5., 5., 5., 5., 5., 5., 5., 4., 5., 5.],\n",
       "       [5., 5., 5., 5., 5., 5., 5., 5., 5., 5.],\n",
       "       [5., 5., 5., 5., 5., 5., 5., 5., 5., 3.]])"
      ]
     },
     "execution_count": 21,
     "metadata": {},
     "output_type": "execute_result"
    }
   ],
   "source": [
    "rating_matrix[:10, :10]"
   ]
  },
  {
   "cell_type": "code",
   "execution_count": null,
   "id": "3bb1b44d",
   "metadata": {},
   "outputs": [],
   "source": []
  },
  {
   "cell_type": "markdown",
   "id": "5b6c5baa",
   "metadata": {},
   "source": [
    "# Segmentazione degli utenti in base alle preferenze"
   ]
  },
  {
   "cell_type": "code",
   "execution_count": null,
   "id": "e3652108",
   "metadata": {},
   "outputs": [],
   "source": []
  },
  {
   "cell_type": "code",
   "execution_count": 22,
   "id": "43660316",
   "metadata": {},
   "outputs": [
    {
     "name": "stderr",
     "output_type": "stream",
     "text": [
      "C:\\Users\\lorym\\.conda\\NConda\\lib\\site-packages\\sklearn\\cluster\\_kmeans.py:1382: UserWarning:\n",
      "\n",
      "KMeans is known to have a memory leak on Windows with MKL, when there are less chunks than available threads. You can avoid it by setting the environment variable OMP_NUM_THREADS=4.\n",
      "\n",
      "C:\\Users\\lorym\\.conda\\NConda\\lib\\site-packages\\sklearn\\cluster\\_kmeans.py:1382: UserWarning:\n",
      "\n",
      "KMeans is known to have a memory leak on Windows with MKL, when there are less chunks than available threads. You can avoid it by setting the environment variable OMP_NUM_THREADS=4.\n",
      "\n",
      "C:\\Users\\lorym\\.conda\\NConda\\lib\\site-packages\\sklearn\\cluster\\_kmeans.py:1382: UserWarning:\n",
      "\n",
      "KMeans is known to have a memory leak on Windows with MKL, when there are less chunks than available threads. You can avoid it by setting the environment variable OMP_NUM_THREADS=4.\n",
      "\n",
      "C:\\Users\\lorym\\.conda\\NConda\\lib\\site-packages\\sklearn\\cluster\\_kmeans.py:1382: UserWarning:\n",
      "\n",
      "KMeans is known to have a memory leak on Windows with MKL, when there are less chunks than available threads. You can avoid it by setting the environment variable OMP_NUM_THREADS=4.\n",
      "\n",
      "C:\\Users\\lorym\\.conda\\NConda\\lib\\site-packages\\sklearn\\cluster\\_kmeans.py:1382: UserWarning:\n",
      "\n",
      "KMeans is known to have a memory leak on Windows with MKL, when there are less chunks than available threads. You can avoid it by setting the environment variable OMP_NUM_THREADS=4.\n",
      "\n",
      "C:\\Users\\lorym\\.conda\\NConda\\lib\\site-packages\\sklearn\\cluster\\_kmeans.py:1382: UserWarning:\n",
      "\n",
      "KMeans is known to have a memory leak on Windows with MKL, when there are less chunks than available threads. You can avoid it by setting the environment variable OMP_NUM_THREADS=4.\n",
      "\n",
      "C:\\Users\\lorym\\.conda\\NConda\\lib\\site-packages\\sklearn\\cluster\\_kmeans.py:1382: UserWarning:\n",
      "\n",
      "KMeans is known to have a memory leak on Windows with MKL, when there are less chunks than available threads. You can avoid it by setting the environment variable OMP_NUM_THREADS=4.\n",
      "\n",
      "C:\\Users\\lorym\\.conda\\NConda\\lib\\site-packages\\sklearn\\cluster\\_kmeans.py:1382: UserWarning:\n",
      "\n",
      "KMeans is known to have a memory leak on Windows with MKL, when there are less chunks than available threads. You can avoid it by setting the environment variable OMP_NUM_THREADS=4.\n",
      "\n",
      "C:\\Users\\lorym\\.conda\\NConda\\lib\\site-packages\\sklearn\\cluster\\_kmeans.py:1382: UserWarning:\n",
      "\n",
      "KMeans is known to have a memory leak on Windows with MKL, when there are less chunks than available threads. You can avoid it by setting the environment variable OMP_NUM_THREADS=4.\n",
      "\n",
      "C:\\Users\\lorym\\.conda\\NConda\\lib\\site-packages\\sklearn\\cluster\\_kmeans.py:1382: UserWarning:\n",
      "\n",
      "KMeans is known to have a memory leak on Windows with MKL, when there are less chunks than available threads. You can avoid it by setting the environment variable OMP_NUM_THREADS=4.\n",
      "\n"
     ]
    }
   ],
   "source": [
    "from sklearn.cluster import KMeans\n",
    "wcss = []\n",
    "for i in range(1, 11):\n",
    "    km = KMeans(n_clusters = i, init = 'k-means++', max_iter = 300, n_init = 10, random_state = 0)\n",
    "    km.fit(rating_matrix)\n",
    "    wcss.append(km.inertia_)"
   ]
  },
  {
   "cell_type": "code",
   "execution_count": 23,
   "id": "2fe39256",
   "metadata": {},
   "outputs": [
    {
     "name": "stdout",
     "output_type": "stream",
     "text": [
      "3500.2360000000003\n",
      "3308.870556673376\n",
      "3213.954545454543\n",
      "3160.113435763321\n",
      "3109.064381081693\n",
      "2976.608532968289\n",
      "2957.6617600150116\n",
      "2883.8722222222204\n",
      "2841.7278556516562\n",
      "2807.6757480862893\n"
     ]
    }
   ],
   "source": [
    "# Printiamo tutti i valori WCSS:\n",
    "for i in wcss:\n",
    "    print(i)"
   ]
  },
  {
   "cell_type": "code",
   "execution_count": 24,
   "id": "43e2670f",
   "metadata": {},
   "outputs": [
    {
     "data": {
      "image/png": "[encoded data removed]",
      "text/plain": [
       "<Figure size 640x480 with 1 Axes>"
      ]
     },
     "metadata": {},
     "output_type": "display_data"
    }
   ],
   "source": [
    "plt.plot(range(1, 11), wcss)\n",
    "plt.title('The Elbow Method', fontsize = 20)\n",
    "plt.xlabel('No. of Clusters')\n",
    "plt.ylabel('wcss')\n",
    "plt.show()"
   ]
  },
  {
   "cell_type": "markdown",
   "id": "7522ea4f",
   "metadata": {},
   "source": [
    "Scegliamo 6 cluster totali"
   ]
  },
  {
   "cell_type": "code",
   "execution_count": 27,
   "id": "0b150ab5",
   "metadata": {},
   "outputs": [
    {
     "name": "stderr",
     "output_type": "stream",
     "text": [
      "C:\\Users\\lorym\\.conda\\NConda\\lib\\site-packages\\sklearn\\cluster\\_kmeans.py:1382: UserWarning:\n",
      "\n",
      "KMeans is known to have a memory leak on Windows with MKL, when there are less chunks than available threads. You can avoid it by setting the environment variable OMP_NUM_THREADS=4.\n",
      "\n"
     ]
    }
   ],
   "source": [
    "km = KMeans(n_clusters = 5, init = 'k-means++', max_iter = 300, n_init = 10, random_state = 0)\n",
    "y_means = km.fit_predict(rating_matrix)"
   ]
  },
  {
   "cell_type": "code",
   "execution_count": 28,
   "id": "2a600c45",
   "metadata": {},
   "outputs": [],
   "source": [
    "n_clusters = 5\n",
    "kMeansClusterer = KMeansClusterer(n_clusters, cosine_distance)\n",
    "\n",
    "clusters = kMeansClusterer.cluster(rating_matrix, assign_clusters=True)\n",
    "users_clusters = dict(zip(users_subset, clusters))"
   ]
  },
  {
   "cell_type": "code",
   "execution_count": 29,
   "id": "c1944cd5",
   "metadata": {},
   "outputs": [
    {
     "name": "stdout",
     "output_type": "stream",
     "text": [
      "Cluster 0 utenti: 11\n",
      "Cluster 1 utenti: 973\n",
      "Cluster 2 utenti: 8\n",
      "Cluster 3 utenti: 1\n",
      "Cluster 4 utenti: 7\n"
     ]
    }
   ],
   "source": [
    "# Vediamo quanti user_id sono presenti per ciascun cluster\n",
    "user_per_cluster = []\n",
    "for i in range(n_clusters):\n",
    "    user_per_cluster.append(len([x for x in users_clusters.values() if x == i]))\n",
    "    print('Cluster', i, 'utenti:', user_per_cluster[i])"
   ]
  },
  {
   "cell_type": "code",
   "execution_count": 30,
   "id": "d3c15d90",
   "metadata": {},
   "outputs": [
    {
     "data": {
      "text/plain": [
       "Text(0, 0.5, 'User')"
      ]
     },
     "execution_count": 30,
     "metadata": {},
     "output_type": "execute_result"
    },
    {
     "data": {
      "image/png": "[encoded data removed]",
      "text/plain": [
       "<Figure size 640x480 with 1 Axes>"
      ]
     },
     "metadata": {},
     "output_type": "display_data"
    }
   ],
   "source": [
    "#user_per_cluster = np.sort(user_per_cluster)\n",
    "plt.bar(range(n_clusters),user_per_cluster)\n",
    "plt.title('User per Cluster')\n",
    "plt.xlabel('cluster')\n",
    "plt.ylabel('User')"
   ]
  },
  {
   "cell_type": "code",
   "execution_count": 32,
   "id": "f40064f5",
   "metadata": {},
   "outputs": [],
   "source": [
    "cl1 = []\n",
    "cl2 = []\n",
    "cl3 = []\n",
    "cl4 = []\n",
    "cl5 = []\n",
    "for i in(users_clusters):\n",
    "    cluster = users_clusters[i]\n",
    "    if cluster == 0:\n",
    "        cl1.append(i)\n",
    "    if cluster == 1:\n",
    "        cl2.append(i)\n",
    "    if cluster == 2:\n",
    "        cl3.append(i)\n",
    "    if cluster == 3:\n",
    "        cl4.append(i)\n",
    "    if cluster == 4:\n",
    "        cl5.append(i)"
   ]
  },
  {
   "cell_type": "code",
   "execution_count": 34,
   "id": "798eb6d7",
   "metadata": {},
   "outputs": [
    {
     "name": "stdout",
     "output_type": "stream",
     "text": [
      "------------------------------------------------\n",
      "CLUSTER 1:  [388317, 640417, 321, 60467, 693436] ....\n",
      "------------------------------------------------\n",
      "CLUSTER 2:  [151944, 154309, 87660, 721308, 16800] ....\n",
      "------------------------------------------------\n",
      "CLUSTER 3:  [855337, 564111, 146771, 9259, 234649] ....\n",
      "------------------------------------------------\n",
      "CLUSTER 4:  [279765] ....\n",
      "------------------------------------------------\n",
      "CLUSTER 5:  [53519, 728539, 251897, 768140, 41133] ....\n",
      "------------------------------------------------\n"
     ]
    }
   ],
   "source": [
    "print('------------------------------------------------')\n",
    "print('CLUSTER 1: ', cl1[0:5],'....')\n",
    "print('------------------------------------------------')\n",
    "print('CLUSTER 2: ', cl2[0:5],'....')\n",
    "print('------------------------------------------------')\n",
    "print('CLUSTER 3: ', cl3[0:5],'....')\n",
    "print('------------------------------------------------')\n",
    "print('CLUSTER 4: ', cl4[0:5],'....')\n",
    "print('------------------------------------------------')\n",
    "print('CLUSTER 5: ', cl5[0:5],'....')\n",
    "print('------------------------------------------------')"
   ]
  },
  {
   "cell_type": "code",
   "execution_count": null,
   "id": "d0b6e156",
   "metadata": {},
   "outputs": [],
   "source": []
  },
  {
   "cell_type": "markdown",
   "id": "c5b1b6f8",
   "metadata": {},
   "source": [
    "# Creiamo per ogni utente la lista degli item"
   ]
  },
  {
   "cell_type": "code",
   "execution_count": null,
   "id": "9965f096",
   "metadata": {},
   "outputs": [],
   "source": []
  },
  {
   "cell_type": "code",
   "execution_count": 35,
   "id": "99efd69f",
   "metadata": {},
   "outputs": [],
   "source": [
    "df_ridotto.set_index(['user_id', 'item_id'], inplace=True) \n",
    "\n",
    "\n",
    "diz = {}\n",
    "for i, user in enumerate(users_subset):\n",
    "    lista_item = []\n",
    "    for j, item in enumerate(items_ids):\n",
    "        if (user, item) in df_ridotto.index:\n",
    "            pass\n",
    "        else:\n",
    "            if rating_matrix[i, j] == 5:\n",
    "                    lista_item.append(item)\n",
    "            else:\n",
    "                pass        \n",
    "    diz[user] = lista_item\n",
    "  \n",
    "\n",
    "df_ridotto.reset_index(inplace=True)"
   ]
  },
  {
   "cell_type": "code",
   "execution_count": 36,
   "id": "56633caf",
   "metadata": {},
   "outputs": [
    {
     "name": "stdout",
     "output_type": "stream",
     "text": [
      "------------------------------------------------\n",
      "user_id:  151944 --> item_id [1729232, 1295171, 123793, 1229740, 1133906]\n",
      "------------------------------------------------\n",
      "user_id:  154309 --> item_id [616682, 1295171, 123793, 1229740, 1133906]\n",
      "------------------------------------------------\n",
      "user_id:  87660 --> item_id [616682, 1729232, 123793, 1229740, 1133906]\n",
      "------------------------------------------------\n"
     ]
    }
   ],
   "source": [
    "u = users_subset[:3]   # Item consigliati per i primi 3 utenti\n",
    "for i in u:\n",
    "    riga = diz[i]\n",
    "    r = riga[:5]       # Primi 5 item consigliati\n",
    "    print('------------------------------------------------')  \n",
    "    print('user_id: ', i,'--> item_id',r)\n",
    "print('------------------------------------------------')     "
   ]
  },
  {
   "cell_type": "code",
   "execution_count": null,
   "id": "3da9bf2f",
   "metadata": {},
   "outputs": [],
   "source": []
  },
  {
   "cell_type": "markdown",
   "id": "7be9e7fc",
   "metadata": {},
   "source": [
    "# Usiamo l'algoritmo SVD "
   ]
  },
  {
   "cell_type": "code",
   "execution_count": null,
   "id": "7f177e37",
   "metadata": {},
   "outputs": [],
   "source": []
  },
  {
   "cell_type": "code",
   "execution_count": 37,
   "id": "630ee2ae",
   "metadata": {},
   "outputs": [
    {
     "name": "stdout",
     "output_type": "stream",
     "text": [
      "Best RMSE = 0.8437\n",
      "Best MSE = 0.7138\n",
      "Best configuration = {'n_factors': 40, 'n_epochs': 10, 'lr_all': 0.01, 'reg_all': 0.05, 'biased': False, 'init_mean': 1, 'init_std_dev': 0.5}\n"
     ]
    }
   ],
   "source": [
    "# n_factors (number of factors  '100')\n",
    "# init_mean (sarebbe la media inziale con la quale si prate '0')\n",
    "# init_std_dev (sarebbe la deviazione standard inziale con la quale si prate '1')\n",
    "# n_epochs (sostanzilmente i cicli '20')\n",
    "# lr_all  (learning rate '0.005')\n",
    "# reg_all ( Il termine di regolarizzazione per tutti i parametri '0.02')\n",
    "# biased (non ho capito bene cosa sia, ma sostanzialmente rende la stima imparziale 'True')\n",
    "\n",
    "#param_grid = {\n",
    "#    'n_factors': [40, 60, 80, 100, 120, 130],\n",
    "#    'n_epochs': [10,20,30,40,50],\n",
    "#    'lr_all': [0.01, 0.015,0.02],\n",
    "#    'reg_all': [0.05,0.01],\n",
    "#    'biased': [True, False],\n",
    "#    'init_mean': [0,1,2,3,4,5],\n",
    "#    'init_std_dev': [0.5,1,1.5]\n",
    "#    }\n",
    "\n",
    "# Proviamo a fare un grid serach per vedere di ottimizzare gli iperparametri:\n",
    "# Utilizziamo il Grid Search:\n",
    "ds_SVD = Dataset.load_from_df(df_ridotto.sample(frac=0.2)[['user_id', 'item_id', 'rating']], reader)\n",
    "param_grid = {\n",
    "    'n_factors': [40, 60],\n",
    "    'n_epochs': [10],\n",
    "    'lr_all': [0.01],\n",
    "    'reg_all': [0.05],\n",
    "    'biased': [True, False],\n",
    "    'init_mean': [0,1],\n",
    "    'init_std_dev': [0.5]\n",
    "    }\n",
    "\n",
    "\n",
    "gs_SVD = GridSearchCV(SVD, param_grid, measures=['rmse', 'mse'], n_jobs = -1)\n",
    "gs_SVD.fit(ds_SVD)\n",
    "\n",
    "\n",
    "# Vediamo i risultati:\n",
    "print(f'Best RMSE = {gs_SVD.best_score[\"rmse\"]:.4f}')\n",
    "print(f'Best MSE = {gs_SVD.best_score[\"mse\"]:.4f}')\n",
    "print(f'Best configuration = {gs_SVD.best_params[\"rmse\"]}')"
   ]
  },
  {
   "cell_type": "markdown",
   "id": "51516175",
   "metadata": {},
   "source": [
    "Best RMSE = 0.7585\n",
    "Best MSE = 0.5761\n",
    "Best configuration = {'n_factors': 40, 'n_epochs': 40, 'lr_all': 0.02, 'reg_all': 0.05, 'biased': True, 'init_mean': 1, 'init_std_dev': 0.5}"
   ]
  },
  {
   "cell_type": "code",
   "execution_count": 38,
   "id": "54556b73",
   "metadata": {},
   "outputs": [
    {
     "name": "stdout",
     "output_type": "stream",
     "text": [
      "Evaluating RMSE, MSE of algorithm SVD on 5 split(s).\n",
      "\n",
      "                  Fold 1  Fold 2  Fold 3  Fold 4  Fold 5  Mean    Std     \n",
      "RMSE (testset)    0.7206  0.7431  0.7911  0.7406  0.7779  0.7547  0.0259  \n",
      "MSE (testset)     0.5192  0.5522  0.6259  0.5485  0.6051  0.5702  0.0393  \n",
      "Fit time          0.16    0.14    0.14    0.15    0.16    0.15    0.01    \n",
      "Test time         0.01    0.01    0.02    0.01    0.02    0.01    0.00    \n"
     ]
    }
   ],
   "source": [
    "# Cross validiamo:\n",
    "gs_SVD = Dataset.load_from_df(df_ridotto.sample(frac=0.2)[['user_id', 'item_id', 'rating']], reader)\n",
    "\n",
    "algo_SVD_2 = SVD(\n",
    "    n_factors= 40, \n",
    "    n_epochs= 40,\n",
    "    lr_all=  0.02,\n",
    "    reg_all= 0.05,\n",
    "    biased= True,\n",
    "    init_mean= 1,\n",
    "    init_std_dev= 0.5\n",
    "    )\n",
    "\n",
    "result_SVD = cross_validate(algo_SVD_2, ds_SVD, measures=['RMSE', 'MSE'], cv=5, verbose=True)"
   ]
  },
  {
   "cell_type": "code",
   "execution_count": 39,
   "id": "c849544a",
   "metadata": {},
   "outputs": [
    {
     "data": {
      "text/plain": [
       "<surprise.prediction_algorithms.matrix_factorization.SVD at 0x2ce01c23370>"
      ]
     },
     "execution_count": 39,
     "metadata": {},
     "output_type": "execute_result"
    }
   ],
   "source": [
    "# Ora fittiamo il modello:\n",
    "ds_SVD = Dataset.load_from_df(df_ridotto, reader)\n",
    "trainset_SVD = ds_SVD.build_full_trainset()\n",
    "\n",
    "algo_SVD_2.fit(trainset_SVD)"
   ]
  },
  {
   "cell_type": "code",
   "execution_count": 40,
   "id": "88e8eead",
   "metadata": {},
   "outputs": [
    {
     "name": "stdout",
     "output_type": "stream",
     "text": [
      "user: 777527     item: 1615177    r_ui = 2.00   est = 4.07   {'was_impossible': False}\n",
      "user: 8259       item: 131698     r_ui = 2.00   est = 4.57   {'was_impossible': False}\n",
      "user: 902971     item: 1608617    r_ui = 2.00   est = 4.75   {'was_impossible': False}\n",
      "user: 504685     item: 168610     r_ui = 2.00   est = 4.17   {'was_impossible': False}\n",
      "user: 996936     item: 1793377    r_ui = 2.00   est = 4.35   {'was_impossible': False}\n",
      "user: 162679     item: 126335     r_ui = 2.00   est = 4.88   {'was_impossible': False}\n",
      "user: 933313     item: 1226293    r_ui = 2.00   est = 4.07   {'was_impossible': False}\n",
      "user: 441640     item: 1209909    r_ui = 2.00   est = 4.72   {'was_impossible': False}\n",
      "user: 713027     item: 1831026    r_ui = 2.00   est = 3.93   {'was_impossible': False}\n"
     ]
    }
   ],
   "source": [
    "for i in range(1,10):\n",
    "  (algo_SVD_2.predict(df_ridotto.sample().iloc[0,0],df_ridotto.sample().iloc[0,1],  r_ui = 2 ,verbose= True).est)"
   ]
  },
  {
   "cell_type": "code",
   "execution_count": null,
   "id": "497dd153",
   "metadata": {},
   "outputs": [],
   "source": []
  },
  {
   "cell_type": "code",
   "execution_count": null,
   "id": "c4b2fb54",
   "metadata": {},
   "outputs": [],
   "source": []
  },
  {
   "cell_type": "markdown",
   "id": "2f608899",
   "metadata": {},
   "source": [
    "Filling Della matrice con SVD"
   ]
  },
  {
   "cell_type": "code",
   "execution_count": 43,
   "id": "3cb5773f",
   "metadata": {},
   "outputs": [],
   "source": [
    "# Creaiamo prima una matrice con l'SVD:\n",
    "matrice_vuota_SVD = np.zeros((len(users_subset), len(items_ids)))\n",
    "df_ridotto.set_index(['user_id', 'item_id'], inplace=True) \n",
    "\n",
    "for i, user in enumerate(users_subset):\n",
    "    for j, item in enumerate(items_ids):\n",
    "\n",
    "        if (user, item) in df_ridotto.index:\n",
    "            matrice_vuota_SVD[i, j] = df_ridotto.loc[user, item]['rating']\n",
    "\n",
    "        else:\n",
    "            matrice_vuota_SVD[i, j] = round(algo_SVD_2.predict(user, item).est)\n",
    "\n",
    "df_ridotto.reset_index(inplace=True)"
   ]
  },
  {
   "cell_type": "code",
   "execution_count": 44,
   "id": "f6da80ea",
   "metadata": {},
   "outputs": [
    {
     "data": {
      "text/plain": [
       "array([[5., 5., 5., 5., 5., 5., 5., 5., 5., 5.],\n",
       "       [5., 5., 4., 4., 4., 5., 4., 4., 3., 5.],\n",
       "       [5., 5., 5., 5., 5., 5., 5., 5., 4., 4.],\n",
       "       [5., 5., 5., 5., 5., 5., 5., 4., 5., 5.],\n",
       "       [5., 4., 4., 5., 5., 5., 4., 4., 4., 5.],\n",
       "       [5., 4., 5., 4., 5., 5., 4., 5., 4., 5.],\n",
       "       [5., 5., 4., 4., 4., 4., 5., 4., 4., 4.],\n",
       "       [4., 5., 5., 5., 5., 5., 5., 4., 5., 5.],\n",
       "       [5., 4., 5., 4., 5., 5., 5., 5., 5., 5.],\n",
       "       [4., 4., 5., 4., 4., 4., 4., 5., 3., 3.]])"
      ]
     },
     "execution_count": 44,
     "metadata": {},
     "output_type": "execute_result"
    }
   ],
   "source": [
    "matrice_vuota_SVD[:10,:10]"
   ]
  },
  {
   "cell_type": "code",
   "execution_count": null,
   "id": "bde6082e",
   "metadata": {},
   "outputs": [],
   "source": []
  },
  {
   "cell_type": "code",
   "execution_count": 45,
   "id": "efccea25",
   "metadata": {},
   "outputs": [
    {
     "name": "stderr",
     "output_type": "stream",
     "text": [
      "C:\\Users\\lorym\\.conda\\NConda\\lib\\site-packages\\sklearn\\cluster\\_kmeans.py:1382: UserWarning:\n",
      "\n",
      "KMeans is known to have a memory leak on Windows with MKL, when there are less chunks than available threads. You can avoid it by setting the environment variable OMP_NUM_THREADS=4.\n",
      "\n",
      "C:\\Users\\lorym\\.conda\\NConda\\lib\\site-packages\\sklearn\\cluster\\_kmeans.py:1382: UserWarning:\n",
      "\n",
      "KMeans is known to have a memory leak on Windows with MKL, when there are less chunks than available threads. You can avoid it by setting the environment variable OMP_NUM_THREADS=4.\n",
      "\n",
      "C:\\Users\\lorym\\.conda\\NConda\\lib\\site-packages\\sklearn\\cluster\\_kmeans.py:1382: UserWarning:\n",
      "\n",
      "KMeans is known to have a memory leak on Windows with MKL, when there are less chunks than available threads. You can avoid it by setting the environment variable OMP_NUM_THREADS=4.\n",
      "\n",
      "C:\\Users\\lorym\\.conda\\NConda\\lib\\site-packages\\sklearn\\cluster\\_kmeans.py:1382: UserWarning:\n",
      "\n",
      "KMeans is known to have a memory leak on Windows with MKL, when there are less chunks than available threads. You can avoid it by setting the environment variable OMP_NUM_THREADS=4.\n",
      "\n",
      "C:\\Users\\lorym\\.conda\\NConda\\lib\\site-packages\\sklearn\\cluster\\_kmeans.py:1382: UserWarning:\n",
      "\n",
      "KMeans is known to have a memory leak on Windows with MKL, when there are less chunks than available threads. You can avoid it by setting the environment variable OMP_NUM_THREADS=4.\n",
      "\n",
      "C:\\Users\\lorym\\.conda\\NConda\\lib\\site-packages\\sklearn\\cluster\\_kmeans.py:1382: UserWarning:\n",
      "\n",
      "KMeans is known to have a memory leak on Windows with MKL, when there are less chunks than available threads. You can avoid it by setting the environment variable OMP_NUM_THREADS=4.\n",
      "\n",
      "C:\\Users\\lorym\\.conda\\NConda\\lib\\site-packages\\sklearn\\cluster\\_kmeans.py:1382: UserWarning:\n",
      "\n",
      "KMeans is known to have a memory leak on Windows with MKL, when there are less chunks than available threads. You can avoid it by setting the environment variable OMP_NUM_THREADS=4.\n",
      "\n",
      "C:\\Users\\lorym\\.conda\\NConda\\lib\\site-packages\\sklearn\\cluster\\_kmeans.py:1382: UserWarning:\n",
      "\n",
      "KMeans is known to have a memory leak on Windows with MKL, when there are less chunks than available threads. You can avoid it by setting the environment variable OMP_NUM_THREADS=4.\n",
      "\n",
      "C:\\Users\\lorym\\.conda\\NConda\\lib\\site-packages\\sklearn\\cluster\\_kmeans.py:1382: UserWarning:\n",
      "\n",
      "KMeans is known to have a memory leak on Windows with MKL, when there are less chunks than available threads. You can avoid it by setting the environment variable OMP_NUM_THREADS=4.\n",
      "\n",
      "C:\\Users\\lorym\\.conda\\NConda\\lib\\site-packages\\sklearn\\cluster\\_kmeans.py:1382: UserWarning:\n",
      "\n",
      "KMeans is known to have a memory leak on Windows with MKL, when there are less chunks than available threads. You can avoid it by setting the environment variable OMP_NUM_THREADS=4.\n",
      "\n"
     ]
    }
   ],
   "source": [
    "from sklearn.cluster import KMeans\n",
    "wcss_SVD = []\n",
    "for i in range(1, 11):\n",
    "    km = KMeans(n_clusters = i, init = 'k-means++', max_iter = 300, n_init = 10, random_state = 0)\n",
    "    km.fit(matrice_vuota_SVD)\n",
    "    wcss_SVD.append(km.inertia_)"
   ]
  },
  {
   "cell_type": "code",
   "execution_count": 46,
   "id": "ab4d476c",
   "metadata": {},
   "outputs": [
    {
     "data": {
      "image/png": "[encoded data removed]",
      "text/plain": [
       "<Figure size 640x480 with 1 Axes>"
      ]
     },
     "metadata": {},
     "output_type": "display_data"
    }
   ],
   "source": [
    "plt.plot(range(1, 11), wcss_SVD)\n",
    "plt.title('The Elbow Method', fontsize = 20)\n",
    "plt.xlabel('No. of Clusters')\n",
    "plt.ylabel('wcss')\n",
    "plt.show()"
   ]
  },
  {
   "cell_type": "code",
   "execution_count": null,
   "id": "ed6147f5",
   "metadata": {},
   "outputs": [],
   "source": [
    "# Teniamo come buoni 3 cluster"
   ]
  },
  {
   "cell_type": "code",
   "execution_count": 55,
   "id": "768955c5",
   "metadata": {},
   "outputs": [
    {
     "name": "stderr",
     "output_type": "stream",
     "text": [
      "C:\\Users\\lorym\\.conda\\NConda\\lib\\site-packages\\sklearn\\cluster\\_kmeans.py:1382: UserWarning:\n",
      "\n",
      "KMeans is known to have a memory leak on Windows with MKL, when there are less chunks than available threads. You can avoid it by setting the environment variable OMP_NUM_THREADS=4.\n",
      "\n"
     ]
    }
   ],
   "source": [
    "km = KMeans(n_clusters = 3, init = 'k-means++', max_iter = 300, n_init = 10, random_state = 0)\n",
    "y_means = km.fit_predict(matrice_vuota_SVD)"
   ]
  },
  {
   "cell_type": "code",
   "execution_count": 56,
   "id": "95804ea2",
   "metadata": {},
   "outputs": [],
   "source": [
    "n_clusters = 3\n",
    "kMeansClusterer = KMeansClusterer(n_clusters, cosine_distance)\n",
    "\n",
    "clusters = kMeansClusterer.cluster(matrice_vuota_SVD, assign_clusters=True)\n",
    "users_clusters = dict(zip(users_subset, clusters))"
   ]
  },
  {
   "cell_type": "code",
   "execution_count": 57,
   "id": "47c6ba0c",
   "metadata": {},
   "outputs": [
    {
     "name": "stdout",
     "output_type": "stream",
     "text": [
      "Cluster 0 utenti: 11\n",
      "Cluster 1 utenti: 973\n",
      "Cluster 2 utenti: 8\n"
     ]
    }
   ],
   "source": [
    "# Vediamo quanti user_id sono presenti per ciascun cluster\n",
    "user_per_cluster_SVD = []\n",
    "for i in range(n_clusters):\n",
    "    user_per_cluster.append(len([x for x in users_clusters.values() if x == i]))\n",
    "    print('Cluster', i, 'utenti:', user_per_cluster[i])"
   ]
  },
  {
   "cell_type": "code",
   "execution_count": 58,
   "id": "13a1cbe1",
   "metadata": {},
   "outputs": [
    {
     "ename": "ValueError",
     "evalue": "shape mismatch: objects cannot be broadcast to a single shape.  Mismatch is between arg 0 with shape (3,) and arg 1 with shape (0,).",
     "output_type": "error",
     "traceback": [
      "\u001b[1;31m---------------------------------------------------------------------------\u001b[0m",
      "\u001b[1;31mValueError\u001b[0m                                Traceback (most recent call last)",
      "Cell \u001b[1;32mIn[58], line 2\u001b[0m\n\u001b[0;32m      1\u001b[0m \u001b[38;5;66;03m#user_per_cluster = np.sort(user_per_cluster)\u001b[39;00m\n\u001b[1;32m----> 2\u001b[0m \u001b[43mplt\u001b[49m\u001b[38;5;241;43m.\u001b[39;49m\u001b[43mbar\u001b[49m\u001b[43m(\u001b[49m\u001b[38;5;28;43mrange\u001b[39;49m\u001b[43m(\u001b[49m\u001b[43mn_clusters\u001b[49m\u001b[43m)\u001b[49m\u001b[43m,\u001b[49m\u001b[43muser_per_cluster_SVD\u001b[49m\u001b[43m)\u001b[49m\n\u001b[0;32m      3\u001b[0m plt\u001b[38;5;241m.\u001b[39mtitle(\u001b[38;5;124m'\u001b[39m\u001b[38;5;124mUser per Cluster\u001b[39m\u001b[38;5;124m'\u001b[39m)\n\u001b[0;32m      4\u001b[0m plt\u001b[38;5;241m.\u001b[39mxlabel(\u001b[38;5;124m'\u001b[39m\u001b[38;5;124mcluster\u001b[39m\u001b[38;5;124m'\u001b[39m)\n",
      "File \u001b[1;32m~\\.conda\\NConda\\lib\\site-packages\\matplotlib\\pyplot.py:2439\u001b[0m, in \u001b[0;36mbar\u001b[1;34m(x, height, width, bottom, align, data, **kwargs)\u001b[0m\n\u001b[0;32m   2435\u001b[0m \u001b[38;5;129m@_copy_docstring_and_deprecators\u001b[39m(Axes\u001b[38;5;241m.\u001b[39mbar)\n\u001b[0;32m   2436\u001b[0m \u001b[38;5;28;01mdef\u001b[39;00m \u001b[38;5;21mbar\u001b[39m(\n\u001b[0;32m   2437\u001b[0m         x, height, width\u001b[38;5;241m=\u001b[39m\u001b[38;5;241m0.8\u001b[39m, bottom\u001b[38;5;241m=\u001b[39m\u001b[38;5;28;01mNone\u001b[39;00m, \u001b[38;5;241m*\u001b[39m, align\u001b[38;5;241m=\u001b[39m\u001b[38;5;124m'\u001b[39m\u001b[38;5;124mcenter\u001b[39m\u001b[38;5;124m'\u001b[39m,\n\u001b[0;32m   2438\u001b[0m         data\u001b[38;5;241m=\u001b[39m\u001b[38;5;28;01mNone\u001b[39;00m, \u001b[38;5;241m*\u001b[39m\u001b[38;5;241m*\u001b[39mkwargs):\n\u001b[1;32m-> 2439\u001b[0m     \u001b[38;5;28;01mreturn\u001b[39;00m gca()\u001b[38;5;241m.\u001b[39mbar(\n\u001b[0;32m   2440\u001b[0m         x, height, width\u001b[38;5;241m=\u001b[39mwidth, bottom\u001b[38;5;241m=\u001b[39mbottom, align\u001b[38;5;241m=\u001b[39malign,\n\u001b[0;32m   2441\u001b[0m         \u001b[38;5;241m*\u001b[39m\u001b[38;5;241m*\u001b[39m({\u001b[38;5;124m\"\u001b[39m\u001b[38;5;124mdata\u001b[39m\u001b[38;5;124m\"\u001b[39m: data} \u001b[38;5;28;01mif\u001b[39;00m data \u001b[38;5;129;01mis\u001b[39;00m \u001b[38;5;129;01mnot\u001b[39;00m \u001b[38;5;28;01mNone\u001b[39;00m \u001b[38;5;28;01melse\u001b[39;00m {}), \u001b[38;5;241m*\u001b[39m\u001b[38;5;241m*\u001b[39mkwargs)\n",
      "File \u001b[1;32m~\\.conda\\NConda\\lib\\site-packages\\matplotlib\\__init__.py:1442\u001b[0m, in \u001b[0;36m_preprocess_data.<locals>.inner\u001b[1;34m(ax, data, *args, **kwargs)\u001b[0m\n\u001b[0;32m   1439\u001b[0m \u001b[38;5;129m@functools\u001b[39m\u001b[38;5;241m.\u001b[39mwraps(func)\n\u001b[0;32m   1440\u001b[0m \u001b[38;5;28;01mdef\u001b[39;00m \u001b[38;5;21minner\u001b[39m(ax, \u001b[38;5;241m*\u001b[39margs, data\u001b[38;5;241m=\u001b[39m\u001b[38;5;28;01mNone\u001b[39;00m, \u001b[38;5;241m*\u001b[39m\u001b[38;5;241m*\u001b[39mkwargs):\n\u001b[0;32m   1441\u001b[0m     \u001b[38;5;28;01mif\u001b[39;00m data \u001b[38;5;129;01mis\u001b[39;00m \u001b[38;5;28;01mNone\u001b[39;00m:\n\u001b[1;32m-> 1442\u001b[0m         \u001b[38;5;28;01mreturn\u001b[39;00m func(ax, \u001b[38;5;241m*\u001b[39m\u001b[38;5;28mmap\u001b[39m(sanitize_sequence, args), \u001b[38;5;241m*\u001b[39m\u001b[38;5;241m*\u001b[39mkwargs)\n\u001b[0;32m   1444\u001b[0m     bound \u001b[38;5;241m=\u001b[39m new_sig\u001b[38;5;241m.\u001b[39mbind(ax, \u001b[38;5;241m*\u001b[39margs, \u001b[38;5;241m*\u001b[39m\u001b[38;5;241m*\u001b[39mkwargs)\n\u001b[0;32m   1445\u001b[0m     auto_label \u001b[38;5;241m=\u001b[39m (bound\u001b[38;5;241m.\u001b[39marguments\u001b[38;5;241m.\u001b[39mget(label_namer)\n\u001b[0;32m   1446\u001b[0m                   \u001b[38;5;129;01mor\u001b[39;00m bound\u001b[38;5;241m.\u001b[39mkwargs\u001b[38;5;241m.\u001b[39mget(label_namer))\n",
      "File \u001b[1;32m~\\.conda\\NConda\\lib\\site-packages\\matplotlib\\axes\\_axes.py:2417\u001b[0m, in \u001b[0;36mAxes.bar\u001b[1;34m(self, x, height, width, bottom, align, **kwargs)\u001b[0m\n\u001b[0;32m   2414\u001b[0m     \u001b[38;5;28;01mif\u001b[39;00m yerr \u001b[38;5;129;01mis\u001b[39;00m \u001b[38;5;129;01mnot\u001b[39;00m \u001b[38;5;28;01mNone\u001b[39;00m:\n\u001b[0;32m   2415\u001b[0m         yerr \u001b[38;5;241m=\u001b[39m \u001b[38;5;28mself\u001b[39m\u001b[38;5;241m.\u001b[39m_convert_dx(yerr, y0, y, \u001b[38;5;28mself\u001b[39m\u001b[38;5;241m.\u001b[39mconvert_yunits)\n\u001b[1;32m-> 2417\u001b[0m x, height, width, y, linewidth, hatch \u001b[38;5;241m=\u001b[39m \u001b[43mnp\u001b[49m\u001b[38;5;241;43m.\u001b[39;49m\u001b[43mbroadcast_arrays\u001b[49m\u001b[43m(\u001b[49m\n\u001b[0;32m   2418\u001b[0m \u001b[43m    \u001b[49m\u001b[38;5;66;43;03m# Make args iterable too.\u001b[39;49;00m\n\u001b[0;32m   2419\u001b[0m \u001b[43m    \u001b[49m\u001b[43mnp\u001b[49m\u001b[38;5;241;43m.\u001b[39;49m\u001b[43matleast_1d\u001b[49m\u001b[43m(\u001b[49m\u001b[43mx\u001b[49m\u001b[43m)\u001b[49m\u001b[43m,\u001b[49m\u001b[43m \u001b[49m\u001b[43mheight\u001b[49m\u001b[43m,\u001b[49m\u001b[43m \u001b[49m\u001b[43mwidth\u001b[49m\u001b[43m,\u001b[49m\u001b[43m \u001b[49m\u001b[43my\u001b[49m\u001b[43m,\u001b[49m\u001b[43m \u001b[49m\u001b[43mlinewidth\u001b[49m\u001b[43m,\u001b[49m\u001b[43m \u001b[49m\u001b[43mhatch\u001b[49m\u001b[43m)\u001b[49m\n\u001b[0;32m   2421\u001b[0m \u001b[38;5;66;03m# Now that units have been converted, set the tick locations.\u001b[39;00m\n\u001b[0;32m   2422\u001b[0m \u001b[38;5;28;01mif\u001b[39;00m orientation \u001b[38;5;241m==\u001b[39m \u001b[38;5;124m'\u001b[39m\u001b[38;5;124mvertical\u001b[39m\u001b[38;5;124m'\u001b[39m:\n",
      "File \u001b[1;32m<__array_function__ internals>:200\u001b[0m, in \u001b[0;36mbroadcast_arrays\u001b[1;34m(*args, **kwargs)\u001b[0m\n",
      "File \u001b[1;32m~\\.conda\\NConda\\lib\\site-packages\\numpy\\lib\\stride_tricks.py:540\u001b[0m, in \u001b[0;36mbroadcast_arrays\u001b[1;34m(subok, *args)\u001b[0m\n\u001b[0;32m    533\u001b[0m \u001b[38;5;66;03m# nditer is not used here to avoid the limit of 32 arrays.\u001b[39;00m\n\u001b[0;32m    534\u001b[0m \u001b[38;5;66;03m# Otherwise, something like the following one-liner would suffice:\u001b[39;00m\n\u001b[0;32m    535\u001b[0m \u001b[38;5;66;03m# return np.nditer(args, flags=['multi_index', 'zerosize_ok'],\u001b[39;00m\n\u001b[0;32m    536\u001b[0m \u001b[38;5;66;03m#                  order='C').itviews\u001b[39;00m\n\u001b[0;32m    538\u001b[0m args \u001b[38;5;241m=\u001b[39m [np\u001b[38;5;241m.\u001b[39marray(_m, copy\u001b[38;5;241m=\u001b[39m\u001b[38;5;28;01mFalse\u001b[39;00m, subok\u001b[38;5;241m=\u001b[39msubok) \u001b[38;5;28;01mfor\u001b[39;00m _m \u001b[38;5;129;01min\u001b[39;00m args]\n\u001b[1;32m--> 540\u001b[0m shape \u001b[38;5;241m=\u001b[39m \u001b[43m_broadcast_shape\u001b[49m\u001b[43m(\u001b[49m\u001b[38;5;241;43m*\u001b[39;49m\u001b[43margs\u001b[49m\u001b[43m)\u001b[49m\n\u001b[0;32m    542\u001b[0m \u001b[38;5;28;01mif\u001b[39;00m \u001b[38;5;28mall\u001b[39m(array\u001b[38;5;241m.\u001b[39mshape \u001b[38;5;241m==\u001b[39m shape \u001b[38;5;28;01mfor\u001b[39;00m array \u001b[38;5;129;01min\u001b[39;00m args):\n\u001b[0;32m    543\u001b[0m     \u001b[38;5;66;03m# Common case where nothing needs to be broadcasted.\u001b[39;00m\n\u001b[0;32m    544\u001b[0m     \u001b[38;5;28;01mreturn\u001b[39;00m args\n",
      "File \u001b[1;32m~\\.conda\\NConda\\lib\\site-packages\\numpy\\lib\\stride_tricks.py:422\u001b[0m, in \u001b[0;36m_broadcast_shape\u001b[1;34m(*args)\u001b[0m\n\u001b[0;32m    417\u001b[0m \u001b[38;5;250m\u001b[39m\u001b[38;5;124;03m\"\"\"Returns the shape of the arrays that would result from broadcasting the\u001b[39;00m\n\u001b[0;32m    418\u001b[0m \u001b[38;5;124;03msupplied arrays against each other.\u001b[39;00m\n\u001b[0;32m    419\u001b[0m \u001b[38;5;124;03m\"\"\"\u001b[39;00m\n\u001b[0;32m    420\u001b[0m \u001b[38;5;66;03m# use the old-iterator because np.nditer does not handle size 0 arrays\u001b[39;00m\n\u001b[0;32m    421\u001b[0m \u001b[38;5;66;03m# consistently\u001b[39;00m\n\u001b[1;32m--> 422\u001b[0m b \u001b[38;5;241m=\u001b[39m \u001b[43mnp\u001b[49m\u001b[38;5;241;43m.\u001b[39;49m\u001b[43mbroadcast\u001b[49m\u001b[43m(\u001b[49m\u001b[38;5;241;43m*\u001b[39;49m\u001b[43margs\u001b[49m\u001b[43m[\u001b[49m\u001b[43m:\u001b[49m\u001b[38;5;241;43m32\u001b[39;49m\u001b[43m]\u001b[49m\u001b[43m)\u001b[49m\n\u001b[0;32m    423\u001b[0m \u001b[38;5;66;03m# unfortunately, it cannot handle 32 or more arguments directly\u001b[39;00m\n\u001b[0;32m    424\u001b[0m \u001b[38;5;28;01mfor\u001b[39;00m pos \u001b[38;5;129;01min\u001b[39;00m \u001b[38;5;28mrange\u001b[39m(\u001b[38;5;241m32\u001b[39m, \u001b[38;5;28mlen\u001b[39m(args), \u001b[38;5;241m31\u001b[39m):\n\u001b[0;32m    425\u001b[0m     \u001b[38;5;66;03m# ironically, np.broadcast does not properly handle np.broadcast\u001b[39;00m\n\u001b[0;32m    426\u001b[0m     \u001b[38;5;66;03m# objects (it treats them as scalars)\u001b[39;00m\n\u001b[0;32m    427\u001b[0m     \u001b[38;5;66;03m# use broadcasting to avoid allocating the full array\u001b[39;00m\n",
      "\u001b[1;31mValueError\u001b[0m: shape mismatch: objects cannot be broadcast to a single shape.  Mismatch is between arg 0 with shape (3,) and arg 1 with shape (0,)."
     ]
    },
    {
     "data": {
      "image/png": "[encoded data removed]",
      "text/plain": [
       "<Figure size 640x480 with 1 Axes>"
      ]
     },
     "metadata": {},
     "output_type": "display_data"
    }
   ],
   "source": [
    "#user_per_cluster = np.sort(user_per_cluster)\n",
    "plt.bar(range(n_clusters),user_per_cluster_SVD)\n",
    "plt.title('User per Cluster')\n",
    "plt.xlabel('cluster')\n",
    "plt.ylabel('User')"
   ]
  },
  {
   "cell_type": "code",
   "execution_count": 53,
   "id": "3e0d8d8f",
   "metadata": {},
   "outputs": [],
   "source": [
    "cl1 = []\n",
    "cl2 = []\n",
    "cl3 = []\n",
    "for i in(user_per_cluster_SVD):\n",
    "    cluster = user_per_cluster_SVD[i]\n",
    "    if cluster == 0:\n",
    "        cl1.append(i)\n",
    "    if cluster == 1:\n",
    "        cl2.append(i)\n",
    "    if cluster == 2:\n",
    "        cl3.append(i)"
   ]
  },
  {
   "cell_type": "code",
   "execution_count": 54,
   "id": "dd2c6f22",
   "metadata": {},
   "outputs": [
    {
     "name": "stdout",
     "output_type": "stream",
     "text": [
      "------------------------------------------------\n",
      "CLUSTER 1:  [] ...\n",
      "------------------------------------------------\n",
      "CLUSTER 2:  [] ...\n",
      "------------------------------------------------\n",
      "CLUSTER 3:  [] ...\n",
      "------------------------------------------------\n"
     ]
    }
   ],
   "source": [
    "print('------------------------------------------------')\n",
    "print('CLUSTER 1: ', cl1,'...')\n",
    "print('------------------------------------------------')\n",
    "print('CLUSTER 2: ', cl2[0:5],'...')\n",
    "print('------------------------------------------------')\n",
    "print('CLUSTER 3: ', cl3[0:5],'...')\n",
    "print('------------------------------------------------')"
   ]
  },
  {
   "cell_type": "code",
   "execution_count": 59,
   "id": "16554fdb",
   "metadata": {},
   "outputs": [],
   "source": [
    "# Creiamo per ogni utente la lista degli item\n",
    "df_ridotto.set_index(['user_id', 'item_id'], inplace=True) \n",
    "\n",
    "\n",
    "diz_SVD = {}\n",
    "for i, user in enumerate(users_subset):\n",
    "    lista_item = []\n",
    "    for j, item in enumerate(items_ids):\n",
    "        if (user, item) in df_ridotto.index:\n",
    "            pass\n",
    "        else:\n",
    "            if matrice_vuota_SVD[i, j] == 5:\n",
    "                    lista_item.append(item)\n",
    "            else:\n",
    "                pass        \n",
    "    diz_SVD[user] = lista_item\n",
    "  \n",
    "\n",
    "df_ridotto.reset_index(inplace=True)"
   ]
  },
  {
   "cell_type": "code",
   "execution_count": 67,
   "id": "4574dcc3",
   "metadata": {},
   "outputs": [
    {
     "name": "stdout",
     "output_type": "stream",
     "text": [
      "------------------------------------------------\n",
      "user_id:  151944 --> item_id [1729232, 1295171, 123793, 1229740, 1133906]\n",
      "------------------------------------------------\n",
      "user_id:  154309 --> item_id [616682, 1133906, 1126889, 1009845, 838983]\n",
      "------------------------------------------------\n",
      "user_id:  87660 --> item_id [616682, 1729232, 123793, 1229740, 1133906]\n",
      "------------------------------------------------\n"
     ]
    }
   ],
   "source": [
    "u = users_subset[:3]   # Item consigliati per i primi 3 utenti\n",
    "for i in u:\n",
    "    riga = diz_SVD[i]\n",
    "    r = riga[:5]       # Primi 5 item consigliati\n",
    "    print('------------------------------------------------')  \n",
    "    print('user_id: ', i,'--> item_id',r)\n",
    "print('------------------------------------------------')   "
   ]
  },
  {
   "cell_type": "code",
   "execution_count": null,
   "id": "542f1b77",
   "metadata": {},
   "outputs": [],
   "source": []
  }
 ],
 "metadata": {
  "kernelspec": {
   "display_name": "Python 3 (ipykernel)",
   "language": "python",
   "name": "python3"
  },
  "language_info": {
   "codemirror_mode": {
    "name": "ipython",
    "version": 3
   },
   "file_extension": ".py",
   "mimetype": "text/x-python",
   "name": "python",
   "nbconvert_exporter": "python",
   "pygments_lexer": "ipython3",
   "version": "3.10.11"
  }
 },
 "nbformat": 4,
 "nbformat_minor": 5
}
